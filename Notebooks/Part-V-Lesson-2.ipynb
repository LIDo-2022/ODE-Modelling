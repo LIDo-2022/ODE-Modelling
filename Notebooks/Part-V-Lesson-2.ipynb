{
 "cells": [
  {
   "cell_type": "markdown",
   "metadata": {},
   "source": [
    "<font size=\"6\"> Part V Lesson 2</font>\n",
    "\n",
    "# Preamble\n",
    "\n",
    "## Prerequisites\n",
    "\n",
    "- Functions\n",
    "- For Loops\n",
    "- Section 1 and 2 of the lecture notes\n",
    "\n",
    "## Outcomes\n",
    "\n",
    "- Be able to integrate (simulate) ODEs with one variable \n",
    "- Understand the concept of steady states\n",
    "\n",
    "\n",
    "## Estimated duration\n",
    "\n",
    "5 hours"
   ]
  },
  {
   "cell_type": "markdown",
   "metadata": {},
   "source": [
    "# Simple gene expression\n",
    "\n",
    "In section 2 of the notes we used the input-output principle, combined with the law of mass-action, to derive the following simple differential equation for the expression of a protein, $X$, where the protein also decays\n",
    "\n",
    "$$ \\frac{dX}{dt} = a - b X $$\n",
    "\n",
    "where $a$ and $b$ are the rate constants for expression and decay respectively. \n",
    "\n",
    "The following code uses the python function `odeint` to numerically integrate the system. It takes as an argument the user defined function `dexpr`, which returns the derviative $dX/dt$ as a function of the protein concentrations and the parameters. function `odeint` also takes the initial values, the time span and the parameters to pass to the user defined function. It can also take a whole range of settings controlling the integration. \n",
    "\n",
    "The following integrates the differential equation, assuming $X_0 = 0$, $a=10$, $b=0.1$"
   ]
  },
  {
   "cell_type": "code",
   "execution_count": 1,
   "metadata": {},
   "outputs": [
    {
     "data": {
      "image/png": "[encoded data removed]",
      "text/plain": [
       "<Figure size 432x288 with 1 Axes>"
      ]
     },
     "metadata": {
      "needs_background": "light"
     },
     "output_type": "display_data"
    }
   ],
   "source": [
    "import numpy as np\n",
    "from scipy.integrate import odeint\n",
    "import matplotlib.pyplot as plt\n",
    "\n",
    "def dexpr(y, t, p):\n",
    "    # X  = y[0]   protein\n",
    "\n",
    "    # assign parameters\n",
    "    a = p[0]\n",
    "    b = p[1]\n",
    "\n",
    "    dX  = a - b*y[0]\n",
    "\n",
    "    return [dX]\n",
    "\n",
    "# define the model parameter vector \n",
    "# note: in maths parameters are often given the greek letter theta\n",
    "# note: this model has two parameters, a and b, so this is a list with two elements\n",
    "theta = [10, 0.1]\n",
    "\n",
    "# define the times at which we want to calculate the integral\n",
    "times = np.arange(0, 60, 0.1)\n",
    "\n",
    "# initial conditions\n",
    "# note: we only have one variable, X, so this is a list with one value in it\n",
    "y0 = [0]\n",
    "\n",
    "# perform the ode integration\n",
    "yobs = odeint(dexpr, y0, times, args=(theta,))\n",
    "\n",
    "# make a plot\n",
    "plt.close()  # close any existing plots\n",
    "\n",
    "plt.plot( times, yobs, label='protein' )\n",
    "plt.legend(loc=7)\n",
    "\n",
    "plt.xlabel('time (hours)')\n",
    "plt.ylabel('Protein, X')\n",
    "#plt.savefig('plot-protein.png') # plot a png\n",
    "plt.show()"
   ]
  },
  {
   "cell_type": "markdown",
   "metadata": {},
   "source": [
    "The analytical solution of this differential equation is\n",
    "\n",
    "$$ X = \\frac{a}{b} - \\frac{exp(-b t)(a - X_0 b)}{b} $$\n",
    "\n",
    "where $X_0$ is the initial value of protein. "
   ]
  },
  {
   "cell_type": "markdown",
   "metadata": {},
   "source": [
    "__DIY: Numerical and exact solution__\n",
    "> \n",
    "> i) Copy and modify the code above. Add a function to encode the analytical solution. Plot over the solution provided by odeint. Verify they are identical for some different intial conditions ($X_0$).\n"
   ]
  },
  {
   "cell_type": "code",
   "execution_count": null,
   "metadata": {},
   "outputs": [],
   "source": []
  },
  {
   "cell_type": "markdown",
   "metadata": {},
   "source": [
    "__DIY: Simple gene expression parameters (1)__\n",
    "> \n",
    "> i)  Modify the code above to plot trajectories corresponding to: <br> \n",
    ">  $a=10,b=0.1$ <br> $a=5,b=0.1$ <br> $a=10,b=0.2$ <br>\n",
    "> Add them on the same plot and colour them differently. What do you notice in terms of behaviour at large times?"
   ]
  },
  {
   "cell_type": "code",
   "execution_count": null,
   "metadata": {},
   "outputs": [],
   "source": []
  },
  {
   "cell_type": "markdown",
   "metadata": {},
   "source": [
    "__DIYN: Simple gene expression parameters (2)__\n",
    "> \n",
    "> i)  Now overplot trajectories corresponding to: <br> \n",
    ">  $a=10,b=0.1$ <br> $a=20,b=0.2$ <br> $a=30,b=0.3$ <br>\n",
    "> Add them on the same plot and colour them differently. What do you now notice?"
   ]
  },
  {
   "cell_type": "code",
   "execution_count": null,
   "metadata": {},
   "outputs": [],
   "source": []
  },
  {
   "cell_type": "markdown",
   "metadata": {},
   "source": [
    "In the previous two exercises you should see that at long times the protein levels become constant and stop changing. This is known as a **steady state** and here it is due to the processes of production and decay being balances. You should also see in teh second exercise that the three trajectories end up in the same steady state but take different times to reach the steady state. This short time behaviour is known as **transient**."
   ]
  },
  {
   "cell_type": "markdown",
   "metadata": {},
   "source": [
    "__DIYN: Gene expression steady state (optional maths)__\n",
    "> i) Show using algebra and the equation for $\\frac{dX}{dt}$ that the steady state of the system is at $X = a/b$  <br>\n",
    "> ii) Can you simplify the above analytical solution for X for the special case that the initial number of proteins is zero, ($X_0=0$). Use this to provide an alternative argument for the steady state at $X = a/b$. Hint: what happens to $e^{-x}$ as $x$ gets large? <br>"
   ]
  },
  {
   "cell_type": "markdown",
   "metadata": {},
   "source": [
    "# Logistic growth\n",
    "\n",
    "We introduced logistic growth in Lesson 1. Now we have the tools of the input-output principle and the law of mass-action we can see how the differential equation is derived. We start with growth\n",
    "$$N \\rightarrow 2N$$\n",
    "which has rate $kN$ assuming the law of mass-action. We can include an additional reaction to model competition between the bacteria \n",
    "\n",
    "$$N + N \\rightarrow N$$\n",
    "which essentially captures the fact that one bacteria dies due to lack of resources. Assuming mass-action, the rate for this reaction is $k' N^2$. Plugging this into the input-output principle gives us\n",
    "\n",
    "$$ \\frac{dN}{dt} = kN - k'N^2$$\n",
    "\n",
    "We can rearrange this equation to give a more useful form\n",
    "$$ \\frac{dN}{dt} = kN( 1 - \\frac{N}{C} )$$\n",
    "where we have written $C = k/k'$. $C$ is known as the carrying capacity.\n",
    "\n",
    "The logistic growth model therefore modifies the constant growth rate to \n",
    "\n",
    "$$ \\frac{dN}{dt} = r N, \\quad r = k(1 - \\frac{N}{C}) $$\n",
    "\n",
    "By looking at the differential equation it can be seen that if $N < C$ the growth rate is positive meaning the population is growing, whereas if $N > C$ the rate is negative and the population is declining. This more accurately accounts for density dependence or competition for fixed resources. Thus $C$ is interpreted as the maximal sustainable population number supported by these resources and is known as the *carrying capacity*. This also shows how we can get insights into dynamical systems by looking at the properties of the equations rather than directly integrating them.\n"
   ]
  },
  {
   "cell_type": "markdown",
   "metadata": {
    "tags": []
   },
   "source": [
    "__DIY: Numerically integrating the logistic growth model__\n",
    "> \n",
    "> Write a function to encode the derivative in the logistic growth model. Simulate the model and plot the trajectory assuming N0=100, k=0.03, C=1000."
   ]
  },
  {
   "cell_type": "code",
   "execution_count": null,
   "metadata": {
    "tags": []
   },
   "outputs": [],
   "source": []
  },
  {
   "cell_type": "markdown",
   "metadata": {},
   "source": [
    "__DIY: Logistic growth and steady state (optional maths)__\n",
    "> \n",
    "> i) Verify using algebra that the steady state of the model is at $N = C$ <br>\n",
    "> ii) What does this imply about the long term behaviour of the population?"
   ]
  },
  {
   "cell_type": "code",
   "execution_count": null,
   "metadata": {
    "tags": []
   },
   "outputs": [],
   "source": []
  },
  {
   "cell_type": "markdown",
   "metadata": {},
   "source": [
    "# Bacterial growth revisted\n",
    "\n",
    "Consider the model of bacterial growth from Lesson 1 \n",
    "$$N \\rightarrow 2N$$\n",
    "\n",
    "Under mass-action type assumptions this reaction gives rise to a differential equation \n",
    "$$\\frac{dN}{dt} = k N$$\n",
    "\n",
    "which has a solution\n",
    "$$N = N_0 exp( kt )$$\n",
    "where $N_0$ is the intial number of bacteria (at time $t=0$).\n"
   ]
  },
  {
   "cell_type": "markdown",
   "metadata": {
    "tags": []
   },
   "source": [
    "__DIY: Some maths (optional)__\n",
    "> \n",
    "> i) Can you derive algebraically the relation between doubling time and $k$ introduced in Lesson 1:\n",
    "\n",
    "$$ \\text{doubling time} = \\frac{ln(2)}{k} $$\n",
    "> Hint: the doubling time is the time for the population to reach $2N_0$ <br>"
   ]
  },
  {
   "cell_type": "code",
   "execution_count": null,
   "metadata": {},
   "outputs": [],
   "source": []
  },
  {
   "cell_type": "markdown",
   "metadata": {},
   "source": [
    "Similarly the model of bacterial death, $N \\rightarrow 0$, gives rise to the differential equation \n",
    "$$\\frac{dN}{dt} = - k N$$\n",
    "which has a solution\n",
    "$$N = N_0 exp( -kt )$$"
   ]
  },
  {
   "cell_type": "markdown",
   "metadata": {
    "tags": []
   },
   "source": [
    "__DIY: Some maths (optional)__\n",
    "> i) Can you derive algebraically the relation between decay rate and half-life $$ k = \\frac{ln(2)}{t_{1/2}} $$"
   ]
  },
  {
   "cell_type": "code",
   "execution_count": null,
   "metadata": {},
   "outputs": [],
   "source": []
  }
 ],
 "metadata": {
  "kernelspec": {
   "display_name": "Python 3",
   "language": "python",
   "name": "python3"
  },
  "language_info": {
   "codemirror_mode": {
    "name": "ipython",
    "version": 3
   },
   "file_extension": ".py",
   "mimetype": "text/x-python",
   "name": "python",
   "nbconvert_exporter": "python",
   "pygments_lexer": "ipython3",
   "version": "3.8.2"
  },
  "toc-autonumbering": true,
  "toc-showmarkdowntxt": false
 },
 "nbformat": 4,
 "nbformat_minor": 4
}
