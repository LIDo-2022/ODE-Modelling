{
 "cells": [
  {
   "cell_type": "markdown",
   "metadata": {},
   "source": [
    "<font size=\"6\"> Part V Lesson 1</font>\n",
    "\n",
    "# Preamble\n",
    "\n",
    "## Prerequisites\n",
    "\n",
    "- Numpy arrays\n",
    "- For loops\n",
    "- Basic matplotlib plotting\n",
    "- A basic understanding of functions\n",
    "\n",
    "## Outcomes\n",
    "\n",
    "- Plot functions represting solutions to differential equations\n",
    "\n",
    "\n",
    "## Estimated duration\n",
    "\n",
    "5 hours"
   ]
  },
  {
   "cell_type": "markdown",
   "metadata": {},
   "source": [
    "# Bacterial growth\n",
    "Here we see how thinking in terms of reactions can be useful to describe populations of cells. We will consider three different processes within bacterial growth. "
   ]
  },
  {
   "cell_type": "markdown",
   "metadata": {
    "tags": []
   },
   "source": [
    "## Simple growth\n",
    "Consider the model of bacterial growth \n",
    "$$N \\rightarrow 2N$$\n",
    "\n",
    "In Lesson 2 we will see how this reaction gives rise to a differential equation but here we will just look at a solution given by\n",
    "$$N = N_0 exp( kt )$$\n",
    "where $N_0$ is the intial number of bacteria (at time $t=0$).\n",
    "\n",
    "We will assume that for our bacteria $k=0.03 min^{-1}$, (which we will see below corresponds to a doubling time of around 23 minutes). The following code plots the growth of the bacteria.\n"
   ]
  },
  {
   "cell_type": "code",
   "execution_count": null,
   "metadata": {
    "tags": []
   },
   "outputs": [],
   "source": [
    "from numpy import *\n",
    "import matplotlib.pyplot as plt\n",
    "\n",
    "# this defines a function. \n",
    "# Input: time t and a parameter array p = [N0, k]\n",
    "# Output: N0*exp(kt)\n",
    "def func(t, p):\n",
    "    N0 = p[0]\n",
    "    k = p[1]\n",
    "    N = N0*exp(k*t)\n",
    "    return N\n",
    "\n",
    "# define the parameters: N0 and k\n",
    "p = [1, 0.03]\n",
    "\n",
    "# define the time range that we want to integrate\n",
    "times = arange(0,600,0.1)\n",
    "ntimes = len(times)\n",
    "\n",
    "# create an empty array, y, to hold the results\n",
    "y = zeros([ntimes])\n",
    "\n",
    "# fill y with the values \n",
    "for i in range(ntimes):\n",
    "    y[i] = func(times[i], p)\n",
    "\n",
    "# make a plot\n",
    "plt.plot( times, y )\n",
    "plt.xlabel('time (minutes)')\n",
    "plt.ylabel('number of cells, N')\n",
    "plt.show()"
   ]
  },
  {
   "cell_type": "markdown",
   "metadata": {},
   "source": [
    "__DIY: Properties of exponential growth__\n",
    ">\n",
    "> i) Modify N0 and k in the above code. What is their effect on the growth curve?<br>\n",
    "> ii) Instead of plotting y, plot log(y). What do you notice? <br>\n",
    "    "
   ]
  },
  {
   "cell_type": "markdown",
   "metadata": {},
   "source": [
    "When dealing with exponetial growth the doubling time is a realy useful quantity. It quantifies the time for the population to double and is measured in units of time (eg seconds, minutres). Doubling time and rate constant are related via the equation:\n",
    "$$ \\text{doubling time} = \\frac{ln(2)}{k} $$"
   ]
  },
  {
   "cell_type": "markdown",
   "metadata": {},
   "source": [
    "__DIY: Write your own functions__\n",
    ">\n",
    "> i) Write a function to convert a value of k to a doubling time. Use the template below.<br>\n",
    "> ii) Verify that a rate constant, k= 0.04, gives a doubling time of 17.3 minutes<br>\n",
    "> iii) What is the doubling time when $k=0.03$ ?<br>\n",
    "> iv) Write a function to do the inverse: convert a value of k to a doubling time "
   ]
  },
  {
   "cell_type": "code",
   "execution_count": null,
   "metadata": {},
   "outputs": [],
   "source": [
    "# define function\n",
    "def convert_k_to_double_time(k):\n",
    "    dt = # insert code here\n",
    "    return dt\n",
    "\n",
    "# run the function\n",
    "k = 0.04\n",
    "double_time = convert_k_to_double_time(k)\n",
    "print(k, double_time)"
   ]
  },
  {
   "cell_type": "markdown",
   "metadata": {},
   "source": [
    "__DIYN: Modelling bacterial growth__\n",
    "> \n",
    "> A colony of 250 E. coli bacteria has a cell cycle of 15 minutes. Its population growth can be modelled with exponential growth. <br>\n",
    "i) What is the value of $k$ for this colony? <br>\n",
    "ii) Plot the population over 2 hours. "
   ]
  },
  {
   "cell_type": "code",
   "execution_count": null,
   "metadata": {},
   "outputs": [],
   "source": []
  },
  {
   "cell_type": "markdown",
   "metadata": {},
   "source": [
    "## Bacterial death\n",
    "Now we are going to assume that the colony is treated with an antibiotic. The antibiotic causes cell death by lysing, bursting open the cell wall. We will assume each cell has the same chance of lysing. This can be modelled by the reaction\n",
    "$$N \\rightarrow 0$$\n",
    "which has a solution\n",
    "$$N = N_0 exp( -kt )$$\n",
    "\n",
    "where $N_0$ is the intial number of bacteria (at time $t=0$). This is known as **exponetial decay**, which you may have come across in the context of radioactivity.\n",
    "\n",
    "Let us now assume that we have prepared a colony of bacteria ($1×10^6$ individuals) from a culture growing in a rich medium and placed them into another petri dish containing the antibiotic. We assume that $k=0.01 min^{-1}$. The following code plots the number of cells as a function of time."
   ]
  },
  {
   "cell_type": "code",
   "execution_count": null,
   "metadata": {},
   "outputs": [],
   "source": [
    "from numpy import *\n",
    "import matplotlib.pyplot as plt\n",
    "\n",
    "def func(t, p):\n",
    "    N0 = p[0]\n",
    "    k = p[1]\n",
    "    N = N0*exp(-k*t)\n",
    "    return N\n",
    "\n",
    "# define the parameters\n",
    "p = [1e6, 0.01]\n",
    "\n",
    "# define the time range that we want to integrate\n",
    "times = arange(0,600,0.1)\n",
    "ntimes = len(times)\n",
    "\n",
    "y = zeros([ntimes])\n",
    "for i in range(ntimes):\n",
    "    y[i] = func(times[i], p)\n",
    "\n",
    "# make a plot\n",
    "plt.plot( times, y )\n",
    "plt.xlabel('time (minutes)')\n",
    "plt.ylabel('number of cells, N')\n",
    "plt.show()"
   ]
  },
  {
   "cell_type": "markdown",
   "metadata": {},
   "source": [
    "Here $k$ is known as the **decay rate** or sometimes the **decay constant**. A useful concept when thinking about exponential decay is know as the **half life**, denoted $t_{1/2}$, which is the time required for the population to reduce to half of its initial value. Decay rate and half-life are related by the following\n",
    "$$ k = \\frac{ln(2)}{t_{1/2}} $$"
   ]
  },
  {
   "cell_type": "markdown",
   "metadata": {},
   "source": [
    "__DIY: Half-life__\n",
    "> \n",
    "> i) Write a python function to relate the half-life to the decay constant <br>\n",
    "> ii) What is the half-life when $k=0.1$? <br>\n",
    "> iii) At what time does the population  number $N=N_0/16$? \n"
   ]
  },
  {
   "cell_type": "code",
   "execution_count": null,
   "metadata": {},
   "outputs": [],
   "source": []
  },
  {
   "cell_type": "markdown",
   "metadata": {},
   "source": [
    "__DIY: Exponential decay__\n",
    "> \n",
    "> An E-coli colony has a population which falls by 50% every 4 hours. <br>\n",
    "> i) Calculate the decay constant for the population.<br>\n",
    "> ii) Define a function to model the population if its initial value is 1,000,000 bacteria. Use the function to plot the number of cells over time and to calculate the population after 24 hours.\n"
   ]
  },
  {
   "cell_type": "code",
   "execution_count": null,
   "metadata": {},
   "outputs": [],
   "source": []
  },
  {
   "cell_type": "markdown",
   "metadata": {},
   "source": [
    "## Logistic growth\n",
    "Unlimited bacterial growth is not a very realistic model for most situations. Of course the optimal growth conditions can only exist for a limited time before the bacteria have to compete for available resources. One way of modelling this density dependence is by using the logistic growth model\n",
    "\n",
    "$$ N = \\frac{ C N_0 exp(kt) }{ K - N_0 + N_0 exp(kt) } $$\n"
   ]
  },
  {
   "cell_type": "markdown",
   "metadata": {},
   "source": [
    "The code below defines a function to model the behaviour of the population, $N$, as a function of time and plots the resultant trajectory. The three parameters are set as follows $N_0 =10$, $k=0.03$ and $C=1000$. (Although 1000 bacteria is not realistic for a colony we can imagine we are looking at a microcolony in a microfluidic device!). Notice that the population reaches a steady state around $N = 1000$."
   ]
  },
  {
   "cell_type": "code",
   "execution_count": null,
   "metadata": {
    "tags": []
   },
   "outputs": [],
   "source": [
    "from numpy import *\n",
    "import matplotlib.pyplot as plt\n",
    "\n",
    "def func(t, p):\n",
    "    N0 = p[0]\n",
    "    k = p[1]\n",
    "    C  = p[2]\n",
    "    N = C*N0*exp(k*t)/(C - N0 + N0*exp(k*t))\n",
    "    return N\n",
    "\n",
    "# define the parameters\n",
    "p = [1, 0.03, 1000]\n",
    "\n",
    "# define the time range that we want to integrate\n",
    "times = arange(0,600,0.1)\n",
    "ntimes = len(times)\n",
    "\n",
    "y = zeros([ntimes])\n",
    "for i in range(ntimes):\n",
    "    y[i] = func(times[i], p)\n",
    "\n",
    "# make a plot\n",
    "plt.plot( times, y, label='u' )\n",
    "plt.xlabel('time (minutes)')\n",
    "plt.ylabel('number of cells, N')\n",
    "plt.show()"
   ]
  },
  {
   "cell_type": "markdown",
   "metadata": {
    "tags": []
   },
   "source": [
    "__DIY2: Exploring the logistic model__\n",
    "> \n",
    "> i) Modify the code above to plot two trajectories corresponding to $N_0=100$ and $N=1500$, keeping the other parameters fixed. Colour them blue and red respectively. <br> \n",
    "> ii) Modify the code to look at the effect of increasing and decreasing $k$ <br>\n",
    "> iii) Explore what happens when you change $C$ <br>\n",
    "> iv) Describe what you notice in each case "
   ]
  },
  {
   "cell_type": "code",
   "execution_count": null,
   "metadata": {},
   "outputs": [],
   "source": []
  },
  {
   "cell_type": "markdown",
   "metadata": {},
   "source": [
    "Here you should see that parameter $C$ sets the maximum sustainable population. This is known as the **carrying capacity**. If the population starts below this value then the population grows until $C$ is reached. Alternatively, if the population starts above $C$ then we get exponential decay until $C$ is reached."
   ]
  },
  {
   "cell_type": "markdown",
   "metadata": {},
   "source": [
    "__DIY3__: Comparing logistic and exponential growth\n",
    "> i) Write some code to the plot both the logistic model and the exponential model. <br>\n",
    "> Hint: assume $k=0.03$ and plot up to $t=200$ minutes <br>\n",
    "> ii) What do you notice?"
   ]
  },
  {
   "cell_type": "code",
   "execution_count": null,
   "metadata": {
    "tags": []
   },
   "outputs": [],
   "source": []
  },
  {
   "cell_type": "markdown",
   "metadata": {},
   "source": [
    "Here you should see that the behaviours of the exponential growth and logistic models are identical at short times (up to around 100 minutes)"
   ]
  }
 ],
 "metadata": {
  "kernelspec": {
   "display_name": "Python 3",
   "language": "python",
   "name": "python3"
  },
  "language_info": {
   "codemirror_mode": {
    "name": "ipython",
    "version": 3
   },
   "file_extension": ".py",
   "mimetype": "text/x-python",
   "name": "python",
   "nbconvert_exporter": "python",
   "pygments_lexer": "ipython3",
   "version": "3.8.8"
  },
  "toc-autonumbering": true,
  "toc-showmarkdowntxt": false
 },
 "nbformat": 4,
 "nbformat_minor": 4
}
