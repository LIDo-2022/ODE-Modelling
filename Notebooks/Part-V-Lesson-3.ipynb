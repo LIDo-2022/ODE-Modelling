{
 "cells": [
  {
   "cell_type": "markdown",
   "metadata": {},
   "source": [
    "<font size=\"6\"> Part V Lesson 3</font>\n",
    "\n",
    "# Preamble\n",
    "\n",
    "## Prerequisites\n",
    "\n",
    "- Functions\n",
    "- For Loops\n",
    "- Using the ode solver\n",
    "- Section 1-3 of the lecture notes\n",
    "\n",
    "## Outcomes\n",
    "\n",
    "- Be able to integrate (simulate) ODEs with more than one variable \n",
    "- Understand the concept of numerical integration\n",
    "\n",
    "\n",
    "## Estimated duration\n",
    "\n",
    "5 hours"
   ]
  },
  {
   "cell_type": "markdown",
   "metadata": {},
   "source": [
    "# The enzymatic system\n",
    "\n",
    "In section 3 of the notes we looked at a simple model of an enzymatic system. This model has three reactions involving substrate, $S$, enzyme, $E$, complex $ES$ and product $P$:\n",
    "$$E + S \\rightarrow ES$$\n",
    "$$ES \\rightarrow E + S$$\n",
    "$$ES \\rightarrow E + P$$\n",
    "with rate constants denoted by $k_1$, $k_{-1}$ and $k_2$ respectively.\n",
    "\n",
    "We saw that by applying the input-output principle to every species separately we could arrive at the following system of differential equations:\n",
    "$$ \\frac{dS}{dt} = -k_1 E \\times S + k_{-1} ES$$\n",
    "$$ \\frac{dE}{dt} = -k_1 E \\times S + k_{-1} ES + k_2 ES$$\n",
    "$$ \\frac{dES}{dt} = +k_1 E \\times S - k_{-1} ES - k_2 ES$$\n",
    "$$ \\frac{dP}{dt} = +k_2 ES$$\n",
    "\n",
    "## Integrating the full system\n",
    "\n",
    "The code below integrates the system using the odeint function. This is analagous to the way we integrated single variable equations only now we have four state variables ($E,S,ES,P$)"
   ]
  },
  {
   "cell_type": "code",
   "execution_count": null,
   "metadata": {},
   "outputs": [],
   "source": [
    "import numpy as np\n",
    "from scipy.integrate import odeint\n",
    "import matplotlib.pyplot as plt\n",
    "\n",
    "def enzy(y, t, p):\n",
    "    # S, E, ES, P = y[0], y[1], y[2], y[3]\n",
    "    S = y[0]\n",
    "    E = y[1]\n",
    "    ES = y[2]\n",
    "    P = y[3]\n",
    "    \n",
    "    # assign parameters\n",
    "    k1 = p[0]\n",
    "    km1 = p[1]\n",
    "    k2 = p[2]\n",
    "    \n",
    "    dS_dt = -k1*E*S + km1*ES\n",
    "    dE_dt = -k1*E*S + km1*ES + k2*ES\n",
    "    dES_dt = +k1*E*S - km1*ES - k2*ES\n",
    "    dP_dt = +k2*ES\n",
    "    \n",
    "    return [dS_dt, dE_dt, dES_dt, dP_dt]\n",
    "\n",
    "# define parameter vector\n",
    "# k1, km1, k2\n",
    "theta = [1, 0.5, 0.6]\n",
    "\n",
    "# define the time range that we want to integrate\n",
    "times = np.arange(0,10,0.1)\n",
    "\n",
    "# initial conditions\n",
    "# S0, E0, ES0, P0\n",
    "y0 = [10, 5, 0, 0]\n",
    "\n",
    "# perform the ode integration\n",
    "yobs = odeint(enzy, y0, times, args=(theta,))\n",
    "\n",
    "# make a plot\n",
    "plt.close()  # close any existing\n",
    "\n",
    "plt.plot( times, yobs[:,0], label='S' )\n",
    "plt.plot( times, yobs[:,1], label='E' )\n",
    "plt.plot( times, yobs[:,2], label='ES' )\n",
    "plt.plot( times, yobs[:,3], label='P' )\n",
    "\n",
    "plt.legend(loc=7)\n",
    "\n",
    "plt.xlabel('time')\n",
    "plt.ylabel('Amount')\n",
    "#plt.savefig('plot-protein.png') # plot a png\n",
    "plt.show()"
   ]
  },
  {
   "cell_type": "markdown",
   "metadata": {},
   "source": [
    "__DIY: Integrating the system__\n",
    "> \n",
    "> i) Try and work out what each part of the code is doing<br>\n",
    "> ii) Copy and modify the code to change the parameters and initial conditions. Experiment with different parameter combinations to get a feel for the model<br>\n",
    "> iii) What happens when the amount of $E$ in the system is small? What is happening there? <br>\n",
    "Hint: set the initial condition for $E$ to be 1\n"
   ]
  },
  {
   "cell_type": "code",
   "execution_count": null,
   "metadata": {},
   "outputs": [],
   "source": []
  },
  {
   "cell_type": "markdown",
   "metadata": {},
   "source": [
    "__DIY: Degrading product__\n",
    "> \n",
    "> i) Add in a new reaction for degradation of product $P \\rightarrow 0$. Assume the rate constant is $k_3=0.5$. How does this change the dynamics above?"
   ]
  },
  {
   "cell_type": "code",
   "execution_count": null,
   "metadata": {},
   "outputs": [],
   "source": []
  },
  {
   "cell_type": "markdown",
   "metadata": {},
   "source": [
    "# Conversion reaction\n"
   ]
  },
  {
   "cell_type": "markdown",
   "metadata": {
    "tags": []
   },
   "source": [
    "Here you will model a simple case of a chemical system undergoing a type of transformation. There are two species $A$ and $B$ and two reactions\n",
    "$$ A \\rightarrow B $$\n",
    "$$ B \\rightarrow A $$"
   ]
  },
  {
   "cell_type": "markdown",
   "metadata": {},
   "source": [
    "with the rate constants given by $k_1$ and $k_2$ respectively."
   ]
  },
  {
   "cell_type": "markdown",
   "metadata": {},
   "source": [
    "__DIY: Deriving the system equations__\n",
    "> \n",
    "> i) Use the input-output principle to derive the system of differential equations <br>\n",
    "> \n"
   ]
  },
  {
   "cell_type": "markdown",
   "metadata": {},
   "source": [
    "__DIY: Integrating the system__\n",
    "> \n",
    "> i) Write some code to simulate the reaction in the time interval 0 to 10. Assume $k_1=0.5$ and $k_2=0.1$ and the inital conditions are $A_0=10$ and $B_0=0$ <br>\n",
    "> ii) Explore how the parameters affect the system"
   ]
  },
  {
   "cell_type": "code",
   "execution_count": null,
   "metadata": {},
   "outputs": [],
   "source": []
  },
  {
   "cell_type": "markdown",
   "metadata": {},
   "source": [
    "# Dimerisation"
   ]
  },
  {
   "cell_type": "markdown",
   "metadata": {},
   "source": [
    "This is very similar to the previous example, except now it captures a molecule undergoing dimerisation:\n",
    "$$ 2 R \\rightarrow R_2 $$\n",
    "$$ R_2 \\rightarrow 2 R $$\n",
    "with the rate constants given by $k_1$ and $k_2$ respectively."
   ]
  },
  {
   "cell_type": "markdown",
   "metadata": {},
   "source": [
    "__DIY: Deriving the system equations__\n",
    "> \n",
    "> i) Use the input-output principle to derive the system of differential equations.<br> \n",
    "  Note that here you have to capture two new things: the fact that $2R \\rightarrow R_2$ is a second order reaction and that the input/output can involve two molecules<br>\n",
    "> \n"
   ]
  },
  {
   "cell_type": "markdown",
   "metadata": {},
   "source": [
    "__DIY: Integrating the system__\n",
    "> \n",
    "> i) Write some code to simulate the reaction in the time interval 0 to 10. Assume $k_1=0.5$ and $k_2=0.1$ and the inital conditions are $R_0=10$ and $R_{2,0}=0$ <br>\n",
    "> ii) Explore how the parameters affect the system and compare the dynamics to the previous system"
   ]
  },
  {
   "cell_type": "code",
   "execution_count": null,
   "metadata": {},
   "outputs": [],
   "source": []
  },
  {
   "cell_type": "markdown",
   "metadata": {},
   "source": [
    "For the same parameters note that the steady state is reached quicker, meaning that in some sense the transient dynamics are shorter. We might expect this since the rate depends on $R^2$ here"
   ]
  }
 ],
 "metadata": {
  "kernelspec": {
   "display_name": "Python 3",
   "language": "python",
   "name": "python3"
  },
  "language_info": {
   "codemirror_mode": {
    "name": "ipython",
    "version": 3
   },
   "file_extension": ".py",
   "mimetype": "text/x-python",
   "name": "python",
   "nbconvert_exporter": "python",
   "pygments_lexer": "ipython3",
   "version": "3.8.2"
  },
  "toc-autonumbering": true,
  "toc-showmarkdowntxt": false
 },
 "nbformat": 4,
 "nbformat_minor": 4
}
